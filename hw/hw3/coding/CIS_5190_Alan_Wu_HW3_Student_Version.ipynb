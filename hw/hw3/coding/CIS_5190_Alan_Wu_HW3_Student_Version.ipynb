{
  "cells": [
    {
      "cell_type": "markdown",
      "metadata": {
        "id": "qs0yamHN-dY0"
      },
      "source": [
        "# **CIS 4190/5190 Homework 3 - Fall 2024**\n",
        "\n",
        "**Before starting, you must click on the \"Copy To Drive\" option in the top bar. Go to File --> Save a Copy to Drive. This is the master notebook so <u>you will not be able to save your changes without copying it </u>! Once you click on that, make sure you are working on that version of the notebook so that your work is saved**"
      ]
    },
    {
      "cell_type": "markdown",
      "metadata": {
        "id": "N7mQBOT862I-"
      },
      "source": [
        "# Libraries"
      ]
    },
    {
      "cell_type": "code",
      "execution_count": null,
      "metadata": {
        "id": "GCqibYyjERm_"
      },
      "outputs": [],
      "source": [
        "# Restart the runtime after running this cell everytime you open the notebook\n",
        "#!pip install pandas==1.1.5"
      ]
    },
    {
      "cell_type": "code",
      "execution_count": 1,
      "metadata": {
        "id": "Rb-WLp5Z-cdy"
      },
      "outputs": [],
      "source": [
        "import random\n",
        "import numpy as np\n",
        "import pandas as pd\n",
        "import os\n",
        "import sys\n",
        "import matplotlib.pyplot as plt\n",
        "from numpy.linalg import *\n",
        "from sklearn.preprocessing import StandardScaler\n",
        "from sklearn.decomposition import PCA\n",
        "from sklearn import preprocessing\n",
        "from scipy.spatial import distance  \n",
        "\n",
        "import torch\n",
        "import torch.nn as nn\n",
        "import torch.nn.functional as F\n",
        "import torch.optim as optim\n",
        "from torchvision import transforms\n",
        "from torchvision.transforms import ToTensor\n",
        "from torch.utils.data import Dataset, DataLoader\n",
        "from PIL import Image\n",
        "\n",
        "np.random.seed(42)  # Do Not change this line\n",
        "\n",
        "import base64"
      ]
    },
    {
      "cell_type": "code",
      "execution_count": 2,
      "metadata": {
        "id": "O2VtEzsZ-loR"
      },
      "outputs": [
        {
          "name": "stdout",
          "output_type": "stream",
          "text": [
            "[INFO, OK] Google Colab.\n"
          ]
        }
      ],
      "source": [
        "# For autogreader only, do not modify this cell.\n",
        "# True for Google Colab, False for autograder\n",
        "NOTEBOOK = (os.getenv('IS_AUTOGRADER') is None)\n",
        "if NOTEBOOK:\n",
        "    print(\"[INFO, OK] Google Colab.\")\n",
        "else:\n",
        "    print(\"[INFO, OK] Autograder.\")"
      ]
    },
    {
      "cell_type": "markdown",
      "metadata": {
        "id": "cjjXBdEb-p8K"
      },
      "source": [
        "# **PennGrader Setup**\n",
        "First, you'll need to set up the PennGrader, an autograder we are going to use throughout the semester. The PennGrader will automatically grade your answer and provide you with an instant feedback. Unless otherwise stated, you can resubmit up to a reasonable number of attempts (e.g. 100 attemptes per day). **We will only record your latest score in our backend database**.\n",
        "\n",
        "After finishing each homework assignment, you must submit your iPython notebook to gradescope before the homework deadline. Gradescope will then retrive and display your scores from our backend database."
      ]
    },
    {
      "cell_type": "code",
      "execution_count": 3,
      "metadata": {
        "id": "6GCTLN4G-nK2"
      },
      "outputs": [],
      "source": [
        "%%capture\n",
        "!pip install penngrader-client"
      ]
    },
    {
      "cell_type": "code",
      "execution_count": 4,
      "metadata": {
        "id": "m-GjiPaNBXzn"
      },
      "outputs": [
        {
          "name": "stdout",
          "output_type": "stream",
          "text": [
            "Writing student_config.yaml\n"
          ]
        }
      ],
      "source": [
        "%%writefile student_config.yaml\n",
        "grader_api_url: 'https://23whrwph9h.execute-api.us-east-1.amazonaws.com/default/Grader23'\n",
        "grader_api_key: 'flfkE736fA6Z8GxMDJe2q8Kfk8UDqjsG3GVqOFOa'"
      ]
    },
    {
      "cell_type": "code",
      "execution_count": 5,
      "metadata": {
        "id": "QLnoPRci-sTC"
      },
      "outputs": [],
      "source": [
        "from penngrader.grader import *"
      ]
    },
    {
      "cell_type": "code",
      "execution_count": 6,
      "metadata": {
        "id": "qu0XYZHO-t8J"
      },
      "outputs": [],
      "source": [
        "#PLEASE ENSURE YOUR PENN-ID IS ENTERED CORRECTLY. IF NOT, THE AUTOGRADER WON'T KNOW WHO\n",
        "#TO ASSIGN POINTS TO YOU IN OUR BACKEND\n",
        "STUDENT_ID = 41855518          # YOUR PENN-ID GOES HERE AS AN INTEGER#"
      ]
    },
    {
      "cell_type": "markdown",
      "metadata": {
        "id": "tIDTGGbo-xkf"
      },
      "source": [
        "Run the following cell to initialize the autograder. This autograder will let you submit your code directly from this notebook and immediately get a score.\n",
        "\n",
        "**NOTE:** Remember we store your submissions and check against other student's submissions... so, not that you would, but no cheating."
      ]
    },
    {
      "cell_type": "code",
      "execution_count": 7,
      "metadata": {
        "id": "bw_QDnZk-vvI"
      },
      "outputs": [
        {
          "name": "stdout",
          "output_type": "stream",
          "text": [
            "PennGrader initialized with Student ID: 41855518\n",
            "\n",
            "Make sure this correct or we will not be able to store your grade\n"
          ]
        }
      ],
      "source": [
        "#GRADER TODO\n",
        "grader = PennGrader('student_config.yaml', 'cis5190_fall24_HW3', STUDENT_ID, STUDENT_ID)"
      ]
    },
    {
      "cell_type": "code",
      "execution_count": 8,
      "metadata": {
        "id": "f0_ydbgD0Kvf"
      },
      "outputs": [],
      "source": [
        "# Serialization code needed by the autograder\n",
        "import inspect, sys\n",
        "from IPython.core.magics.code import extract_symbols\n",
        "\n",
        "def new_getfile(object, _old_getfile=inspect.getfile):\n",
        "    if not inspect.isclass(object):\n",
        "        return _old_getfile(object)\n",
        "\n",
        "    # Lookup by parent module (as in current inspect)\n",
        "    if hasattr(object, '__module__'):\n",
        "        object_ = sys.modules.get(object.__module__)\n",
        "        if hasattr(object_, '__file__'):\n",
        "            return object_.__file__\n",
        "\n",
        "    # If parent module is __main__, lookup by methods (NEW)\n",
        "    for name, member in inspect.getmembers(object):\n",
        "        if inspect.isfunction(member) and object.__qualname__ + '.' + member.__name__ == member.__qualname__:\n",
        "            return inspect.getfile(member)\n",
        "    else:\n",
        "        raise TypeError('Source for {!r} not found'.format(object))\n",
        "inspect.getfile = new_getfile\n",
        "\n",
        "def grader_serialize(obj):\n",
        "    cell_code = \"\".join(inspect.linecache.getlines(new_getfile(obj)))\n",
        "    class_code = extract_symbols(cell_code, obj.__name__)[0][0]\n",
        "    return class_code"
      ]
    },
    {
      "cell_type": "markdown",
      "metadata": {
        "id": "xfXK6ET2npr2"
      },
      "source": [
        "## Datasets\n",
        "Next, we will download the dataset from Google Drive to your local runtime. After successful download, you may verify that all datasets are present in your colab instance.\n",
        "\n",
        "- [observations.csv](https://drive.google.com/file/d/1RvNTrL147Cx90ABv4IfXcexaRyHB-U-e/view?usp=sharing)\n",
        "- [test_student.csv](https://drive.google.com/file/d/1EjQ3Jy5q25GaxeNKh4ahtsLgHEyW3tUj/view?usp=sharing)\n",
        "\n",
        "\n",
        "#### Acknowledgement\n",
        "Dataset obtained from kaggle.com [Hourly Weather Surface - Brazil (Southeast region)](https://www.kaggle.com/PROPPG-PPG/hourly-weather-surface-brazil-southeast-region/metadata )"
      ]
    },
    {
      "cell_type": "code",
      "execution_count": 9,
      "metadata": {
        "id": "Dexqdaw4n3Yo"
      },
      "outputs": [
        {
          "name": "stdout",
          "output_type": "stream",
          "text": [
            "/Users/alanwu/Documents/GitHub/cis-5190/venv/lib/python3.10/site-packages/gdown/__main__.py:140: FutureWarning: Option `--id` was deprecated in version 4.3.1 and will be removed in 5.0. You don't need to pass it anymore to use a file ID.\n",
            "  warnings.warn(\n",
            "Downloading...\n",
            "From: https://drive.google.com/uc?id=1RvNTrL147Cx90ABv4IfXcexaRyHB-U-e\n",
            "To: /Users/alanwu/Documents/GitHub/cis-5190/hw/hw3/coding/observations.csv\n",
            "100%|██████████████████████████████████████| 13.5M/13.5M [00:00<00:00, 66.9MB/s]\n",
            "/Users/alanwu/Documents/GitHub/cis-5190/venv/lib/python3.10/site-packages/gdown/__main__.py:140: FutureWarning: Option `--id` was deprecated in version 4.3.1 and will be removed in 5.0. You don't need to pass it anymore to use a file ID.\n",
            "  warnings.warn(\n",
            "Downloading...\n",
            "From: https://drive.google.com/uc?id=1Z0I6iylDgTk2OKuKDaQVR9I1aJvgRsn_\n",
            "To: /Users/alanwu/Documents/GitHub/cis-5190/hw/hw3/coding/test_student.csv\n",
            "100%|████████████████████████████████████████| 277k/277k [00:00<00:00, 7.08MB/s]\n"
          ]
        }
      ],
      "source": [
        "if NOTEBOOK:\n",
        "  import gdown\n",
        "  if not os.path.exists(\"observations.csv\"):\n",
        "    !gdown --id 1RvNTrL147Cx90ABv4IfXcexaRyHB-U-e\n",
        "  if not os.path.exists(\"test_student.csv\"):\n",
        "    !gdown --id 1Z0I6iylDgTk2OKuKDaQVR9I1aJvgRsn_\n"
      ]
    },
    {
      "cell_type": "markdown",
      "metadata": {
        "id": "oQCyLhELJ7LX"
      },
      "source": [
        "## **NOTE 1. Results of sections marked as \"manually graded\" should be submitted along with the written homework solutions.**"
      ]
    },
    {
      "cell_type": "markdown",
      "metadata": {
        "id": "jVLr_c8h20iS"
      },
      "source": [
        "## **NOTE 2. If you are running into a `__builtins__' error, it's likely because you're using a function call of the form numpy.ndarray.mean(), like a.mean(). This does not play nice with PennGrader unfortunately. Please use the function call numpy.mean(a) instead.**"
      ]
    },
    {
      "cell_type": "markdown",
      "metadata": {
        "id": "HDoI9Xz1Dkam"
      },
      "source": [
        "#**1. [25 pts, 15 autograded, 10 manually graded] K-means Clustering**"
      ]
    },
    {
      "cell_type": "markdown",
      "metadata": {
        "id": "wKFPy_KWdWqK"
      },
      "source": [
        "We will implement the k-means clustering algorithm using the Breast Cancer dataset. As with all unsupervised learning problems, our goal is to discover and describe some hidden structure in unlabeled data. The k-means algorithm, in particular, attempts to determine how to separate the data into <em>k</em> distinct groups over a set of features ***given that we know (are provided) the value of k***.\n",
        "\n",
        "Knowing there are <em>k</em> distinct 'classes' however, doesn't tell anything about the content/properties within each class. If we could find samples that are representative of each of these *k* groups, then we could label the rest of the data based on how similar they are to each of the prototypical samples. We will refer to these representatives as the centroids (cluster centers) that correspond to each cluster."
      ]
    },
    {
      "cell_type": "markdown",
      "metadata": {
        "id": "gswBAEyLdYoX"
      },
      "source": [
        "## **1.1. Import the dataset**\n"
      ]
    },
    {
      "cell_type": "code",
      "execution_count": 10,
      "metadata": {
        "id": "WaQTk5t1daXa"
      },
      "outputs": [],
      "source": [
        "from sklearn.datasets import load_breast_cancer\n",
        "cancer_dataset = load_breast_cancer()\n",
        "\n",
        "## STUDENT TODO START:\n",
        "\"\"\"\n",
        "First load the dataset X from cancer_dataset.\n",
        "X -  (m, n) -> m x n matrix where m is the number of training points = 569 and n is the no of features = 30\n",
        "\"\"\"\n",
        "\n",
        "X = cancer_dataset.data \n",
        "y = cancer_dataset.target\n",
        "\n",
        "## STUDENT TODO END"
      ]
    },
    {
      "cell_type": "code",
      "execution_count": 12,
      "metadata": {},
      "outputs": [
        {
          "data": {
            "text/plain": [
              "(569, 30)"
            ]
          },
          "execution_count": 12,
          "metadata": {},
          "output_type": "execute_result"
        }
      ],
      "source": [
        "X.shape"
      ]
    },
    {
      "cell_type": "code",
      "execution_count": 13,
      "metadata": {},
      "outputs": [
        {
          "data": {
            "text/plain": [
              "(569,)"
            ]
          },
          "execution_count": 13,
          "metadata": {},
          "output_type": "execute_result"
        }
      ],
      "source": [
        "y.shape"
      ]
    },
    {
      "cell_type": "markdown",
      "metadata": {
        "id": "pNk3WkQ2dhRp"
      },
      "source": [
        "## **1.2. [12 pts] K-means clustering implementation**"
      ]
    },
    {
      "cell_type": "markdown",
      "metadata": {
        "id": "chCjiFFMdjmo"
      },
      "source": [
        "We will first implement a class for k-means clustering.<br>\n",
        "These are the main functions: <br>\n",
        "- `__init__`: The initialiser/constructor (This is implemented for you)\n",
        "- `fit`: Entrypoint function that takes in the dataset (X) as well as centroid initialisations and returns:\n",
        "    - the cluster labels for each row (data point) in the dataset\n",
        "    - list of centroids corresponding to each cluster\n",
        "    - no of iterations taken to converge.\n",
        "\n",
        "Inside fit() function, you will need to implement the actual kmeans functionality. <br>\n",
        "The K-means process you should follow is listed below:\n",
        "1. Initialize each of the k centroids to a random datapoint if initialisation is not provided.\n",
        "2. Update each datapoint's cluster to that whose *centroid* is closest\n",
        "3. Calculate the new *centroid* of each cluster\n",
        "4. Repeat the previous two steps until no centroid value changes. Make sure you break out of the loop reagrdless of whether you converged or not once max iterations are reached.\n",
        "\n",
        "To help streamline this process, three helper functions have been defined for you in the KMeans class \\\n",
        "- compute_distance(): use for step-2 above\n",
        "- find_closest_cluster(): use for step-2 above\n",
        "- compute_centroid(): use for step-3 above\n"
      ]
    },
    {
      "cell_type": "code",
      "execution_count": 41,
      "metadata": {
        "id": "kJ-_rjVLdncK"
      },
      "outputs": [],
      "source": [
        "class KMeans:\n",
        "    '''Implementing Kmeans clustering'''\n",
        "\n",
        "    def __init__(self, n_clusters, max_iter=1000):\n",
        "        self.n_clusters = n_clusters\n",
        "        self.max_iter = max_iter\n",
        "\n",
        "    def compute_centroids(self, X, clusters):\n",
        "        \"\"\"\n",
        "        Computes new centroids positions given the clusters\n",
        "\n",
        "        INPUT:\n",
        "        X - m by n matrix, where m is the number of training points\n",
        "        clusters -  m dimensional vector, where m is the number of training points\n",
        "                    At an index i, it contains the cluster id that the i-th datapoint\n",
        "                    in X belongs to.\n",
        "\n",
        "        OUTPUT:\n",
        "        centroids - k by n matrix, where k is the number of clusters.\n",
        "        \"\"\"\n",
        "        centroids = np.zeros((self.n_clusters, X.shape[1]))\n",
        "        ## STUDENT TODO START:\n",
        "        # Compute the average of each clusters and assign to the corresponding centroids\n",
        "        for k in range (self.n_clusters):\n",
        "            points_in_cluster = X[clusters == k]\n",
        "            \n",
        "            if len(points_in_cluster) > 0: \n",
        "                centroids[k] = np.mean(points_in_cluster, axis=0)\n",
        "\n",
        "        ## STUDENT TODO END\n",
        "        return centroids\n",
        "\n",
        "    def compute_distance(self, X, centroids):\n",
        "        \"\"\"\n",
        "        Computes the distance of each datapoint in X from the centroids of all the clusters\n",
        "\n",
        "        INPUT:\n",
        "        X - m by n matrix, where m is the number of training points\n",
        "        centroids - k by n matrix, where k is the number of clusters\n",
        "\n",
        "        OUTPUT:\n",
        "        dist - m by k matrix, for each datapoint in X, the distances from all the k cluster centroids.\n",
        "\n",
        "        \"\"\"\n",
        "        dist = np.zeros((X.shape[0], self.n_clusters))\n",
        "        ## STUDENT TODO START:\n",
        "        # Calculate the distance of each data point from the centroid\n",
        "        for i in range(self.n_clusters): \n",
        "            dist[:, i] = np.linalg.norm(X - centroids[i], axis=1)\n",
        "\n",
        "        ## STUDENT TODO END\n",
        "        return dist\n",
        "\n",
        "    def find_closest_cluster(self, dist):\n",
        "        \"\"\"\n",
        "        Finds the cluster id that each datapoint in X belongs to\n",
        "\n",
        "        INPUT:\n",
        "        dist - m by k matrix, for each datapoint in X, the distances from all the k cluster centroids.\n",
        "\n",
        "        OUTPUT:\n",
        "        clusters - m dimensional vector, where m is the number of training points\n",
        "                    At an index i, it contains the cluster id that the i-th datapoint\n",
        "                    in X belongs to.\n",
        "\n",
        "        \"\"\"\n",
        "        clusters = np.zeros(dist.shape[0])\n",
        "        ## STUDENT TODO START:\n",
        "        # Find the closest cluster for each datapoint\n",
        "        for i in range(dist.shape[0]): \n",
        "            clusters[i] = np.argmin(dist[i])\n",
        "\n",
        "\n",
        "        ## STUDENT TODO END ##\n",
        "        return clusters\n",
        "\n",
        "    def fit(self, X, init_centroids=None):\n",
        "        \"\"\"\n",
        "        Fit KMeans clustering to given dataset X.\n",
        "\n",
        "        INPUT:\n",
        "        X - m by n matrix, where m is the number of training points\n",
        "        init_centroids (optional) - k by n matrix, where k is the number of clusters\n",
        "\n",
        "        OUTPUT:\n",
        "        clusters - m dimensional vector, where m is the number of training points\n",
        "                    At an index i, it contains the cluster id that the i-th datapoint\n",
        "                    in X belongs to.\n",
        "        centroids - k by n matrix, where k is the number of clusters.\n",
        "                    These are the k cluster centroids, for cluster ids 0 to k-1\n",
        "        iters_taken - total iterations taken to converge. Should not be more than max_iter.\n",
        "\n",
        "        \"\"\"\n",
        "        # Fix random seed. Do not change this!\n",
        "        np.random.seed(111)\n",
        "\n",
        "        ## STUDENT TODO START:\n",
        "        # Initialise centroids to random points in the dataset if not provided (i.e. None)\n",
        "        if init_centroids is None:\n",
        "            init_centroids = X[np.random.choice(X.shape[0], self.n_clusters, replace=False)]\n",
        "        \n",
        "        self.centroids = init_centroids\n",
        "        \n",
        "\n",
        "        # Iterate until kmeans converges or max_iters is reached. In each iteration:\n",
        "        #  - Update each datapoint's cluster to that whose *centroid* is closest\n",
        "        #  - Calculate the new *centroid* of each cluster\n",
        "        #  - Repeat the previous two steps until no centroid value changes.\n",
        "        iters_taken = 0\n",
        "        for _ in range(self.max_iter): \n",
        "            dist = self.compute_distance(X, self.centroids)\n",
        "            self.clusters = self.find_closest_cluster(dist)\n",
        "            new_centroids = self.compute_centroids(X, self.clusters)\n",
        "            if np.all(self.centroids == new_centroids):\n",
        "                break\n",
        "            \n",
        "            self.centroids = new_centroids\n",
        "            iters_taken+=1\n",
        "\n",
        "        ## STUDENT TODO END\n",
        "        return self.clusters, self.centroids, iters_taken"
      ]
    },
    {
      "cell_type": "code",
      "execution_count": 42,
      "metadata": {
        "id": "MuvtJjyudpVh"
      },
      "outputs": [],
      "source": [
        "# test case centroids should be aroudn (1.5,1.5) and (4.5,4.5)\n",
        "points = []\n",
        "result = []\n",
        "random.seed(0)\n",
        "for _ in range(500):\n",
        "  x = random.random()*3\n",
        "  y = random.random()*3\n",
        "  points.append((x,y))\n",
        "  result.append(0)\n",
        "for _ in range(500):\n",
        "  x = random.random()*3 + 3\n",
        "  y = random.random()*3 + 3\n",
        "  points.append((x,y))\n",
        "  result.append(1)\n",
        "clf = KMeans(2)\n",
        "points = np.asarray(points)"
      ]
    },
    {
      "cell_type": "code",
      "execution_count": 43,
      "metadata": {
        "id": "ZduFJWmmdp2y"
      },
      "outputs": [],
      "source": [
        "#test for sanity check\n",
        "def test_compute_centroids():\n",
        "  clf = KMeans(2)\n",
        "  centroid_p = clf.compute_centroids(np.array(points),np.array(result))\n",
        "  centroid_r = [[1.5185255, 1.45970038],\n",
        " [4.51568108,4.54138552]]\n",
        "  assert(np.linalg.norm(centroid_p - np.array(centroid_r)) <= 1e-2 )\n",
        "test_compute_centroids()"
      ]
    },
    {
      "cell_type": "code",
      "execution_count": 44,
      "metadata": {
        "id": "IvP10Sgjdp9i"
      },
      "outputs": [
        {
          "name": "stdout",
          "output_type": "stream",
          "text": [
            "Correct! You earned 3/3 points. You are a star!\n",
            "\n",
            "Your submission has been successfully recorded in the gradebook.\n"
          ]
        }
      ],
      "source": [
        "# PennGrader Grading Cell\n",
        "grader.grade(test_case_id = 'test_compute_centroids', answer = grader_serialize(KMeans))"
      ]
    },
    {
      "cell_type": "code",
      "execution_count": 45,
      "metadata": {
        "id": "Wxu-WPKXdqyR"
      },
      "outputs": [],
      "source": [
        "def test_distance():\n",
        "    centroid_r = [[1.5185255, 1.45970038],\n",
        "      [4.51568108,4.54138552]]\n",
        "    clf = KMeans(2)\n",
        "    distance = clf.compute_distance(np.array(points),np.array(centroid_r))\n",
        "    distance_for_0 = [1.30098366, 3.01191447]\n",
        "    assert(np.linalg.norm(distance_for_0-distance[0]) <= 1e-2)\n",
        "test_distance()"
      ]
    },
    {
      "cell_type": "code",
      "execution_count": 46,
      "metadata": {
        "id": "LQEQdSf7dq0V"
      },
      "outputs": [
        {
          "name": "stdout",
          "output_type": "stream",
          "text": [
            "Correct! You earned 2/2 points. You are a star!\n",
            "\n",
            "Your submission has been successfully recorded in the gradebook.\n"
          ]
        }
      ],
      "source": [
        "# PennGrader Grading Cell\n",
        "grader.grade(test_case_id = 'test_distance', answer = grader_serialize(KMeans))"
      ]
    },
    {
      "cell_type": "code",
      "execution_count": 47,
      "metadata": {
        "id": "I_eYli_idq2G"
      },
      "outputs": [],
      "source": [
        "def test_find_clusters():\n",
        "  centroid_r = [[1.5185255, 1.45970038],\n",
        "      [4.51568108,4.54138552]]\n",
        "  clf = KMeans(2)\n",
        "  distance = clf.compute_distance(np.array(points),np.array(centroid_r))\n",
        "  cluster = clf.find_closest_cluster(distance)\n",
        "  assert(cluster[0] == 0)\n",
        "test_find_clusters()"
      ]
    },
    {
      "cell_type": "code",
      "execution_count": 48,
      "metadata": {
        "id": "ib9uRPtJdq3q"
      },
      "outputs": [
        {
          "name": "stdout",
          "output_type": "stream",
          "text": [
            "Correct! You earned 2/2 points. You are a star!\n",
            "\n",
            "Your submission has been successfully recorded in the gradebook.\n"
          ]
        }
      ],
      "source": [
        "# PennGrader Grading Cell\n",
        "grader.grade(test_case_id = 'test_find_clusters', answer = grader_serialize(KMeans))"
      ]
    },
    {
      "cell_type": "code",
      "execution_count": 49,
      "metadata": {
        "id": "yFmAR2IJdx2j"
      },
      "outputs": [],
      "source": [
        "def test_fit():\n",
        "  clf = KMeans(2)\n",
        "  clusters, centroids, _ = clf.fit(np.array(points),np.array([[1,1],[4,4]]))\n",
        "  centroid_r = [[1.5185255, 1.45970038],\n",
        "      [4.51568108,4.54138552]]\n",
        "  assert(np.linalg.norm(centroids - np.array(centroid_r)) <= 1e-2 )\n",
        "  assert(sum(np.array(clusters)-np.array(result)) == 0)\n",
        "test_fit()"
      ]
    },
    {
      "cell_type": "code",
      "execution_count": 50,
      "metadata": {
        "id": "9Iv6H8xmdx5H"
      },
      "outputs": [
        {
          "name": "stdout",
          "output_type": "stream",
          "text": [
            "Correct! You earned 5/5 points. You are a star!\n",
            "\n",
            "Your submission has been successfully recorded in the gradebook.\n"
          ]
        }
      ],
      "source": [
        "# PennGrader Grading Cell\n",
        "grader.grade(test_case_id = 'test_fit', answer = grader_serialize(KMeans))"
      ]
    },
    {
      "cell_type": "markdown",
      "metadata": {
        "id": "YEjBNHRAd5Sy"
      },
      "source": [
        "## **1.3. [3 pts] Compute distortion**\n",
        "\n",
        "As you may have noticed already, one big question still remains. How do we know what value of k to choose?\n",
        "\n",
        "One way to decide on a value for k is to run k-means and plot the distortion (sum of squared error based on the Euclidean distance). From that we can find the \"elbow of the graph\" that indicates the best tradeoff between number of clusters and corresponding distortion.\n",
        "\n",
        "In the function `test_cluster_size`,  iterate over possible cluster sizes from 2 to a `max_cluster` (inclusive) value. For each *k*, run k-means and calculate its distortion."
      ]
    },
    {
      "cell_type": "code",
      "execution_count": 52,
      "metadata": {
        "id": "QadOknBbd5Yl"
      },
      "outputs": [],
      "source": [
        "def test_cluster_size(X, max_k):\n",
        "    \"\"\"\n",
        "    Iterates over possible cluster from 2 to max_k, running k-means and calulating distortion.\n",
        "\n",
        "    INPUT:\n",
        "    X - m by n matrix, where m is the number of training points\n",
        "    max_k - the maximum number of clusters to consider\n",
        "\n",
        "    OUTPUT:\n",
        "    scores - a list of scores, that contains the distortion for k = 2 to max_k, in order.\n",
        "    \"\"\"\n",
        "    scores = [0] * (max_k-1)\n",
        "    ## STUDENT TODO START:\n",
        "    # Run KMeans for each cluster, analyze at which point the distortion starts decreasing more\n",
        "    # slowly (also called calculating the elbow method)\n",
        "    for i in range(2, max_k+1):\n",
        "        clf = KMeans(i)\n",
        "        _, centroids, _ = clf.fit(X)\n",
        "        dist = clf.compute_distance(X, centroids)\n",
        "        scores[i-2] = np.sum(np.min(dist, axis=1))\n",
        "\n",
        "    ## STUDENT TODO END\n",
        "    return scores"
      ]
    },
    {
      "cell_type": "code",
      "execution_count": 53,
      "metadata": {
        "id": "8efXTjqHd8iP"
      },
      "outputs": [],
      "source": [
        "def test_test_cluster_size():\n",
        "  scores = test_cluster_size(np.array(points),5)\n",
        "  assert(np.argmax(scores) == 0)\n",
        "test_test_cluster_size()"
      ]
    },
    {
      "cell_type": "code",
      "execution_count": 54,
      "metadata": {
        "id": "xBiO6N-jd89g"
      },
      "outputs": [
        {
          "name": "stdout",
          "output_type": "stream",
          "text": [
            "Correct! You earned 3/3 points. You are a star!\n",
            "\n",
            "Your submission has been successfully recorded in the gradebook.\n"
          ]
        }
      ],
      "source": [
        "# PennGrader Grading Cell\n",
        "max_k = 20\n",
        "scores = test_cluster_size(X, max_k)\n",
        "grader.grade(test_case_id = 'test_test_cluster_size', answer = scores)"
      ]
    },
    {
      "cell_type": "markdown",
      "metadata": {
        "id": "qxg6MtUXd_zG"
      },
      "source": [
        "## **1.4. [3 pts, manually graded] Plot distortion vs. k (without feature scaling)**\n",
        "\n",
        "Plot distortion vs. different k values by using the function we just wrote on dataset X and add it in the written report. Use max_k = 20. Determine the best k value from this plot and also mention it in the written report. Make sure your plot has axes labels, legend and title."
      ]
    },
    {
      "cell_type": "code",
      "execution_count": 59,
      "metadata": {
        "id": "ou2XslKPd9AK"
      },
      "outputs": [
        {
          "name": "stderr",
          "output_type": "stream",
          "text": [
            "/var/folders/d0/4qvvbdzj6lg3k7zh204kqmk80000gn/T/ipykernel_52197/885011570.py:9: UserWarning: No artists with labels found to put in legend.  Note that artists whose label start with an underscore are ignored when legend() is called with no argument.\n",
            "  plt.legend()\n"
          ]
        },
        {
          "data": {
            "image/png": "[encoded data removed]",
            "text/plain": [
              "<Figure size 1000x600 with 1 Axes>"
            ]
          },
          "metadata": {},
          "output_type": "display_data"
        }
      ],
      "source": [
        "## STUDENT TODO START:\n",
        "# Plot distortion vs. k values\n",
        "plt.figure(figsize=(10, 6))\n",
        "plt.plot(range(2, max_k+1), scores, marker='o')\n",
        "plt.xlabel('Number of clusters')\n",
        "plt.ylabel('Distortion')\n",
        "plt.title('Distortion vs. Number of clusters')\n",
        "plt.grid()\n",
        "plt.show()\n",
        "\n",
        "## STUDENT TODO END"
      ]
    },
    {
      "cell_type": "markdown",
      "metadata": {
        "id": "vUdyEHPbeDgb"
      },
      "source": [
        "## **1.5. [3 pts, manually graded] Plot distortion vs. k (with feature scaling)**\n",
        "\n",
        "What we just did was running k-means clustering over the dataset X without any feature scaling. This time, we will rescale each feature to the standard range of (0,1) before passing it to k-means and computing the distortion.\n",
        "\n",
        "Use `sklearn.preprocessing.MinMaxScaler` ([docs](https://scikit-learn.org/stable/modules/generated/sklearn.preprocessing.MinMaxScaler.html)) and scale the dataset X before passing it to the `test_cluster_size` function. As before, plot distortion vs. different k values and add it in the written report. Use max_k = 20. Determine the best k value from this plot and also mention it in the written report. Make sure your plot has axes labels, legend and title."
      ]
    },
    {
      "cell_type": "code",
      "execution_count": 58,
      "metadata": {
        "id": "PeqKP3g7eEGN"
      },
      "outputs": [
        {
          "data": {
            "image/png": "[encoded data removed]",
            "text/plain": [
              "<Figure size 1000x600 with 1 Axes>"
            ]
          },
          "metadata": {},
          "output_type": "display_data"
        }
      ],
      "source": [
        "## STUDENT TODO START\n",
        "# Use min-max scaler to scale the dataset\n",
        "\n",
        "mms = preprocessing.MinMaxScaler()\n",
        "X_scaled = mms.fit_transform(X)\n",
        "\n",
        "# Test cluster size with the scaled X features and max k\n",
        "scores_scaled = test_cluster_size(X_scaled, max_k)\n",
        "\n",
        "# Plot the distortion values\n",
        "plt.figure(figsize=(10, 6))\n",
        "plt.plot(range(2, max_k+1), scores_scaled, marker='o')\n",
        "plt.xlabel('Number of clusters')\n",
        "plt.ylabel('Distortion')\n",
        "plt.title('Distortion vs. Number of clusters on Scaled X')\n",
        "plt.grid()\n",
        "plt.show()\n",
        "\n",
        "## STUDENT TODO END"
      ]
    },
    {
      "cell_type": "markdown",
      "metadata": {
        "id": "7JCX-tmzeHLV"
      },
      "source": [
        "## **1.6. [4 pts, manually graded] Comments**\n",
        "\n",
        "Answer these questions in the written report.\n",
        "\n",
        "1. Why do you get different results with and without feature scaling?\n",
        "2. Should you scale the features before fitting k-means? Why or why not?"
      ]
    },
    {
      "cell_type": "markdown",
      "metadata": {
        "id": "p5Nw2VyudyPs"
      },
      "source": [
        "# **2. [18 pts, 2 autograded, 16 manually graded] Principal Component Analysis**\n",
        "\n",
        "## **2.1. [8 pts, manually graded] Exploring Effects of Different Princple Components in Linear Regression**\n",
        "We have introduced you a way of dimension reduction, Principal Component Analysis, in class. Now, we would like to ask you to apply PCA from sklearn on the breast cancer dataset to observe its performance and interpret the major components.\n",
        "\n",
        "In order to better compare the effects of PCA, we load the labels from the dataset.\n",
        "\n",
        "Then, we will evaluate the performances of raw dataset and various numbers of pca components on LinearRegression classifier.\n",
        "\n",
        "In the section, you are asked to draw a plot of test accuracies vs number of different principle components. The detailed instructions are included in the following cells.\n",
        "\n",
        "Remember to **attach the plot** in your written submission, and also **make comments** about what you observe, explain the reason behind the trend, and what conclusion you could draw from the graph."
      ]
    },
    {
      "cell_type": "code",
      "execution_count": 60,
      "metadata": {
        "id": "KhGf2QNbfI4o"
      },
      "outputs": [],
      "source": [
        "# load the label from the dataset, which is a binary label 0/1 representing whether the cancer is benign or malignant\n",
        "\n",
        "## STUDENT TODO START\n",
        "# Load the dataset labels\n",
        "X = cancer_dataset.data\n",
        "y = cancer_dataset.target\n",
        "\n",
        "## STUDENT TODO END"
      ]
    },
    {
      "cell_type": "code",
      "execution_count": 61,
      "metadata": {},
      "outputs": [
        {
          "data": {
            "text/plain": [
              "array([0, 0, 0, 0, 0, 0, 0, 0, 0, 0, 0, 0, 0, 0, 0, 0, 0, 0, 0, 1, 1, 1,\n",
              "       0, 0, 0, 0, 0, 0, 0, 0, 0, 0, 0, 0, 0, 0, 0, 1, 0, 0, 0, 0, 0, 0,\n",
              "       0, 0, 1, 0, 1, 1, 1, 1, 1, 0, 0, 1, 0, 0, 1, 1, 1, 1, 0, 1, 0, 0,\n",
              "       1, 1, 1, 1, 0, 1, 0, 0, 1, 0, 1, 0, 0, 1, 1, 1, 0, 0, 1, 0, 0, 0,\n",
              "       1, 1, 1, 0, 1, 1, 0, 0, 1, 1, 1, 0, 0, 1, 1, 1, 1, 0, 1, 1, 0, 1,\n",
              "       1, 1, 1, 1, 1, 1, 1, 0, 0, 0, 1, 0, 0, 1, 1, 1, 0, 0, 1, 0, 1, 0,\n",
              "       0, 1, 0, 0, 1, 1, 0, 1, 1, 0, 1, 1, 1, 1, 0, 1, 1, 1, 1, 1, 1, 1,\n",
              "       1, 1, 0, 1, 1, 1, 1, 0, 0, 1, 0, 1, 1, 0, 0, 1, 1, 0, 0, 1, 1, 1,\n",
              "       1, 0, 1, 1, 0, 0, 0, 1, 0, 1, 0, 1, 1, 1, 0, 1, 1, 0, 0, 1, 0, 0,\n",
              "       0, 0, 1, 0, 0, 0, 1, 0, 1, 0, 1, 1, 0, 1, 0, 0, 0, 0, 1, 1, 0, 0,\n",
              "       1, 1, 1, 0, 1, 1, 1, 1, 1, 0, 0, 1, 1, 0, 1, 1, 0, 0, 1, 0, 1, 1,\n",
              "       1, 1, 0, 1, 1, 1, 1, 1, 0, 1, 0, 0, 0, 0, 0, 0, 0, 0, 0, 0, 0, 0,\n",
              "       0, 0, 1, 1, 1, 1, 1, 1, 0, 1, 0, 1, 1, 0, 1, 1, 0, 1, 0, 0, 1, 1,\n",
              "       1, 1, 1, 1, 1, 1, 1, 1, 1, 1, 1, 0, 1, 1, 0, 1, 0, 1, 1, 1, 1, 1,\n",
              "       1, 1, 1, 1, 1, 1, 1, 1, 1, 0, 1, 1, 1, 0, 1, 0, 1, 1, 1, 1, 0, 0,\n",
              "       0, 1, 1, 1, 1, 0, 1, 0, 1, 0, 1, 1, 1, 0, 1, 1, 1, 1, 1, 1, 1, 0,\n",
              "       0, 0, 1, 1, 1, 1, 1, 1, 1, 1, 1, 1, 1, 0, 0, 1, 0, 0, 0, 1, 0, 0,\n",
              "       1, 1, 1, 1, 1, 0, 1, 1, 1, 1, 1, 0, 1, 1, 1, 0, 1, 1, 0, 0, 1, 1,\n",
              "       1, 1, 1, 1, 0, 1, 1, 1, 1, 1, 1, 1, 0, 1, 1, 1, 1, 1, 0, 1, 1, 0,\n",
              "       1, 1, 1, 1, 1, 1, 1, 1, 1, 1, 1, 1, 0, 1, 0, 0, 1, 0, 1, 1, 1, 1,\n",
              "       1, 0, 1, 1, 0, 1, 0, 1, 1, 0, 1, 0, 1, 1, 1, 1, 1, 1, 1, 1, 0, 0,\n",
              "       1, 1, 1, 1, 1, 1, 0, 1, 1, 1, 1, 1, 1, 1, 1, 1, 1, 0, 1, 1, 1, 1,\n",
              "       1, 1, 1, 0, 1, 0, 1, 1, 0, 1, 1, 1, 1, 1, 0, 0, 1, 0, 1, 0, 1, 1,\n",
              "       1, 1, 1, 0, 1, 1, 0, 1, 0, 1, 0, 0, 1, 1, 1, 0, 1, 1, 1, 1, 1, 1,\n",
              "       1, 1, 1, 1, 1, 0, 1, 0, 0, 1, 1, 1, 1, 1, 1, 1, 1, 1, 1, 1, 1, 1,\n",
              "       1, 1, 1, 1, 1, 1, 1, 1, 1, 1, 1, 1, 0, 0, 0, 0, 0, 0, 1])"
            ]
          },
          "execution_count": 61,
          "metadata": {},
          "output_type": "execute_result"
        }
      ],
      "source": [
        "y"
      ]
    },
    {
      "cell_type": "code",
      "execution_count": 63,
      "metadata": {
        "id": "D7HJgqEDfcOT"
      },
      "outputs": [
        {
          "name": "stdout",
          "output_type": "stream",
          "text": [
            "Accuracy on test set:  0.9680851063829787\n"
          ]
        },
        {
          "data": {
            "image/png": "[encoded data removed]",
            "text/plain": [
              "<Figure size 1000x600 with 1 Axes>"
            ]
          },
          "metadata": {},
          "output_type": "display_data"
        }
      ],
      "source": [
        "from sklearn.model_selection import train_test_split\n",
        "from sklearn.linear_model import LinearRegression\n",
        "from sklearn.decomposition import PCA\n",
        "\n",
        "## STUDENT TODO START:\n",
        "# Step 1: split the data into train and test set by a test_size of 0.33.\n",
        "X_train, X_test, y_train, y_test = train_test_split(X, y, test_size=0.33)\n",
        "\n",
        "# Step 2: Train a linear regression model using train set and predict on the test set.\n",
        "# As the labels are binary, we should cast the predictions into binary labels as well. (Set predictions >=0.5 as 1)\n",
        "lr = LinearRegression() \n",
        "lr.fit(X_train, y_train)\n",
        "\n",
        "\n",
        "y_test_pred = lr.predict(X_test)\n",
        "final_y_test_pred = (y_test_pred >= 0.5).astype(int)\n",
        "\n",
        "# You might want to print out accuracy scores here\n",
        "print(\"Accuracy on test set: \", np.mean(final_y_test_pred == y_test))\n",
        "\n",
        "\n",
        "# Step 3: Iterate the number of components from 1 to 10 (exclusive).\n",
        "# For each number of PCs, we are training a linear regression model and save its accuracy on the test set following the same style as above.\n",
        "# Remeber to only fit the train set and not the test set.\n",
        "# You might want to store your accuracies in a list\n",
        "\n",
        "accuracies = [] \n",
        "for i in range(1, 10):\n",
        "\tpca = PCA(n_components=i)\n",
        "\tX_train_pca = pca.fit_transform(X_train)\n",
        "\tX_test_pca = pca.transform(X_test)\n",
        "\t\n",
        "\tlr = LinearRegression()\n",
        "\tlr.fit(X_train_pca, y_train)\n",
        "\ty_test_pred = lr.predict(X_test_pca)\n",
        "\tfinal_y_test_pred = (y_test_pred >= 0.5).astype(int)\n",
        "\t\n",
        "\taccuracies.append(np.mean(final_y_test_pred == y_test))\n",
        "\n",
        "# Step 4: Make a plot to compare accuracy vs number of PCs on Linear Regression for the test set.\n",
        "# Add a black, dashed line for the test accuracy of linear regression by feeding the raw input data.\n",
        "# Remeber to add x, y labels and title to your plot, and comment on your observations.\n",
        "\n",
        "plt.figure(figsize=(10, 6))\n",
        "plt.plot(range(1, 10), accuracies, marker='o', label='PCA')\n",
        "plt.axhline(np.mean(final_y_test_pred == y_test), color='black', linestyle='--', label='Raw Data')\n",
        "plt.xlabel('Number of PCs')\n",
        "plt.ylabel('Accuracy')\n",
        "plt.grid()\n",
        "plt.title('Accuracy vs Number of PCs on Linear Regression')\n",
        "plt.show()\n",
        "\n",
        "## STUDENT TODO END"
      ]
    },
    {
      "cell_type": "markdown",
      "metadata": {
        "id": "DwlnQRmqoKoU"
      },
      "source": [
        "## **2.2. [5 pts] Understanding PCA**\n",
        "\n",
        "### **2.2.1 [2 pts, autograded] Explained Ratio of PCA**\n",
        "Given a threshold of explained ratio (0 < ratio < 1), compute the number of required PCs to reach the threshold."
      ]
    },
    {
      "cell_type": "code",
      "execution_count": 64,
      "metadata": {
        "id": "aWE8VTsguO7Y"
      },
      "outputs": [],
      "source": [
        "def select_n_principal_components(data, variation):\n",
        "  ## STUDENT TODO START:\n",
        "  # Run PCA on n number of components\n",
        "  # Analyze the explained variance ratios\n",
        "  # If adding the next component's explained variance doesn't exceed\n",
        "  # the target variation, add the component's explained variance\n",
        "  # Return n, where n is the number of components\n",
        "  pca = PCA() \n",
        "  pca.fit(data)\n",
        "  \n",
        "  cumulative_variance = np.cumsum(pca.explained_variance_ratio_)\n",
        "  \n",
        "  n_components = np.argmax(cumulative_variance >= variation) + 1 \n",
        "  \n",
        "  return n_components\n",
        "\n",
        "  ## STUDENT TODO END"
      ]
    },
    {
      "cell_type": "code",
      "execution_count": 65,
      "metadata": {
        "id": "jrkdjex2qMb0"
      },
      "outputs": [
        {
          "name": "stdout",
          "output_type": "stream",
          "text": [
            "Correct! You earned 2/2 points. You are a star!\n",
            "\n",
            "Your submission has been successfully recorded in the gradebook.\n"
          ]
        }
      ],
      "source": [
        "# PennGrader Grading Cell\n",
        "student_ans = [select_n_principal_components(cancer_dataset['data'], 0.98), select_n_principal_components(cancer_dataset['data'], 0.99)]\n",
        "grader.grade(test_case_id = 'test_select_n_principal_components', answer = student_ans)"
      ]
    },
    {
      "cell_type": "markdown",
      "metadata": {
        "id": "lF0A9640q_cd"
      },
      "source": [
        "### **2.2.2 [3 pts, manually graded] Composition of PCA**\n",
        "In this section, we ask you to understand which features specifically in the dataset contribute to the important PCs. We ask that you select the best number of principle components you got from previous part and analyze its composition (as there are multiple components contributing to each PC, you only need to specify the **top three** features that are explained by these PCs together)."
      ]
    },
    {
      "cell_type": "code",
      "execution_count": null,
      "metadata": {
        "id": "Nkjwg6H6u23u"
      },
      "outputs": [],
      "source": [
        "## STUDENT TODO START\n",
        "# Run PCA with a set number of components\n",
        "# Analyze the composition and pick the top three features\n",
        "\n",
        "\n",
        "## STUDENT TODO END"
      ]
    },
    {
      "cell_type": "markdown",
      "metadata": {
        "id": "EpNOIfoWnAQq"
      },
      "source": [
        "## **2.3. [5 pts, manually graded] PCA and KMeans**\n",
        "We first run PCA on the dataset for visualisation in 2D space. Note that k-means is actually being fit on the entire feature set.\n",
        "\n",
        "Next, call your k-means class on the dataset X and obtain the clusters. Make sure to populate the \"clusters\" variable here. We have provided the plotting code for you.\n",
        "\n",
        "**Add these plots in the written report.**"
      ]
    },
    {
      "cell_type": "code",
      "execution_count": null,
      "metadata": {
        "id": "YWI-2KQmd29p"
      },
      "outputs": [],
      "source": [
        "# PCA for visualisation in 2D.\n",
        "pca = PCA(n_components = 2)\n",
        "v = pca.fit(np.transpose(X)).components_\n",
        "\n",
        "for k in [3,5,7,9, 11]:\n",
        "\n",
        "    clusters = np.zeros(X.shape[0])\n",
        "\n",
        "    ## STUDENT TODO START:\n",
        "\n",
        "    ## STUDENT TODO END\n",
        "\n",
        "    plt.scatter(v[0], v[1], c=clusters, s=18)\n",
        "    plt.title(\"Breast Cancer Clusters (k = \"+str(k) + \")\")\n",
        "    plt.show()"
      ]
    },
    {
      "cell_type": "markdown",
      "metadata": {
        "id": "NoidSevnpiqu"
      },
      "source": [
        "# **3. Image Classification using CNN [20 pts]**"
      ]
    },
    {
      "cell_type": "markdown",
      "metadata": {
        "id": "iaLhD7tcacNK"
      },
      "source": [
        "#### **Import libraries**"
      ]
    },
    {
      "cell_type": "code",
      "execution_count": null,
      "metadata": {
        "id": "mgTR67PEQhn6"
      },
      "outputs": [],
      "source": [
        "if NOTEBOOK:\n",
        "    import os\n",
        "    import numpy as np\n",
        "    import pandas as pd\n",
        "    import torch\n",
        "    import torch.nn as nn\n",
        "    import torch.nn.functional as F\n",
        "    import torch.optim as optim\n",
        "    from torchvision import transforms\n",
        "    from torchvision.transforms import ToTensor\n",
        "    from torch.utils.data import Dataset, DataLoader\n",
        "    from PIL import Image\n",
        "    import matplotlib.pyplot as plt"
      ]
    },
    {
      "cell_type": "markdown",
      "metadata": {
        "id": "ydDc504-akhk"
      },
      "source": [
        "#### **Set the random seed**"
      ]
    },
    {
      "cell_type": "code",
      "execution_count": null,
      "metadata": {
        "id": "IgoqGPBPdGBf"
      },
      "outputs": [],
      "source": [
        "if NOTEBOOK:\n",
        "    np.random.seed(0)\n",
        "    torch.manual_seed(0)"
      ]
    },
    {
      "cell_type": "markdown",
      "metadata": {
        "id": "E2bidiHXawdT"
      },
      "source": [
        "#### **Set GPU**"
      ]
    },
    {
      "cell_type": "code",
      "execution_count": null,
      "metadata": {
        "id": "5lI0V_BYa3LP"
      },
      "outputs": [],
      "source": [
        "# Make sure you're using cuda (GPU) by checking the hardware accelerator under Runtime -> Change runtime type\n",
        "if NOTEBOOK:\n",
        "    device = torch.device(\"cuda\" if torch.cuda.is_available() else \"cpu\")\n",
        "    print(\"We're using:\", device)"
      ]
    },
    {
      "cell_type": "markdown",
      "metadata": {
        "id": "1dH1H9cSS4nc"
      },
      "source": [
        "#### **Download and extract the data**"
      ]
    },
    {
      "cell_type": "code",
      "execution_count": null,
      "metadata": {
        "id": "MGXwhaFyjr-J"
      },
      "outputs": [],
      "source": [
        "%%capture\n",
        "if NOTEBOOK:\n",
        "    !pip install -U gdown"
      ]
    },
    {
      "cell_type": "code",
      "execution_count": null,
      "metadata": {
        "id": "7Ry7qltBzb_1"
      },
      "outputs": [],
      "source": [
        "if NOTEBOOK:\n",
        "    !gdown 1vacRphjb47LXifcd3F2xlsOTKR0R_LiF"
      ]
    },
    {
      "cell_type": "code",
      "execution_count": null,
      "metadata": {
        "id": "EAhGG46XzibJ"
      },
      "outputs": [],
      "source": [
        "%%capture\n",
        "if NOTEBOOK:\n",
        "    !yes N | unzip \"/content/supertuxkart_data.zip\" -d \"/content\""
      ]
    },
    {
      "cell_type": "markdown",
      "metadata": {
        "id": "vWRZZ6Gd3O5f"
      },
      "source": [
        "## **3.1. Dataset class implementation**\n",
        "\n",
        "In this section, you will be training, validating and testing a CNN model to classify images of objects from a car racing video game called SuperTuxKart. There are 6 classes of objects: kart is 1, pickup is 2, nitro is 3, bomb is 4 and projectile 5. The background class (all other images) is assigned the label 0. First, you need to load data in a way that PyTorch can deal with easily. We will lean on PyTorch’s `Dataset` class to do this.\n",
        "\n",
        "Complete the `STKDataset` class that inherits from `Dataset`.\n",
        "\n",
        "1. `__init__` is a constructor, and would be the natural place to perform operations common to the full dataset, such as parsing the labels and image paths.\n",
        "2. The `__len__` function should return the size of the dataset, i.e., the number of samples.\n",
        "3. The `__getitem__` function should return a python tuple of (image, label). The image should be a torch.Tensor of size (3, 64, 64) and the label should be an int.\n",
        "\n",
        "The labels of the images under a particular folder (`train/` or `val/`) are stored in the same folder as `labels.csv`. Read the `labels.csv` file using `pandas` to understand what it looks like before proceeding. There is also a `labels.csv` in the `test/` folder. That would only contain the file names of the test samples."
      ]
    },
    {
      "cell_type": "code",
      "execution_count": null,
      "metadata": {
        "id": "clNM_8vS4r_0"
      },
      "outputs": [],
      "source": [
        "if NOTEBOOK:\n",
        "    ENCODING_TO_LABELS = {0: \"background\",\n",
        "                        1: \"kart\",\n",
        "                        2: \"pickup\",\n",
        "                        3: \"nitro\",\n",
        "                        4: \"bomb\",\n",
        "                        5: \"projectile\"}\n",
        "\n",
        "    LABELS_TO_ENCODING = {\"background\": 0,\n",
        "                        \"kart\": 1,\n",
        "                        \"pickup\": 2,\n",
        "                        \"nitro\": 3,\n",
        "                        \"bomb\": 4,\n",
        "                        \"projectile\": 5}"
      ]
    },
    {
      "cell_type": "code",
      "execution_count": null,
      "metadata": {
        "id": "hMx57cqWySrk"
      },
      "outputs": [],
      "source": [
        "if NOTEBOOK:\n",
        "\n",
        "    class STKDataset(Dataset):\n",
        "\n",
        "        def __init__(self, image_path, transform=None):\n",
        "            self.image_path = image_path\n",
        "            self.labels = pd.read_csv(image_path + \"/labels.csv\")\n",
        "            self.transform = transform\n",
        "\n",
        "        def __len__(self):\n",
        "            ## STUDENT TODO START: Return the number of samples in the dataset\n",
        "\n",
        "            ## STUDENT TODO END\n",
        "\n",
        "        def __getitem__(self, idx):\n",
        "            if torch.is_tensor(idx):\n",
        "                idx = idx.tolist()\n",
        "\n",
        "            ## STUDENT TODO START: Create the path to each image by joining the root path with the name of the file as found in labels.csv\n",
        "\n",
        "            ## STUDENT TODO END\n",
        "\n",
        "            # Read the image from the file path\n",
        "            image = Image.open(img_name)\n",
        "            # Transform the image using self.transform\n",
        "            if self.transform:\n",
        "                image = self.transform(image)\n",
        "\n",
        "            if \"label\" in self.labels.columns:\n",
        "                ## STUDENT TODO START: Extract label name and encode it using the LABELS_TO_ENCODING dictionary\n",
        "\n",
        "                ## STUDENT TODO END\n",
        "                sample = (image, label)\n",
        "            else:\n",
        "                sample = (image)\n",
        "            return sample"
      ]
    },
    {
      "cell_type": "code",
      "execution_count": null,
      "metadata": {
        "id": "cVLSRk2r4wff"
      },
      "outputs": [],
      "source": [
        "if NOTEBOOK:\n",
        "    ## STUDENT TODO START: Use transforms.Compose to transform the image such that every pixel takes on a value between -1 and 1\n",
        "    # Hint: Refer to transforms.ToTensor() and transforms.Normalize()\n",
        "\n",
        "    ## STUDENT TODO END\n",
        "\n",
        "    train_dataset = STKDataset(image_path=\"train\", transform=transform)\n",
        "    val_dataset = STKDataset(image_path=\"val\", transform=transform)\n",
        "    test_dataset = STKDataset(image_path=\"test\", transform=transform)"
      ]
    },
    {
      "cell_type": "markdown",
      "metadata": {
        "id": "9xU1vMHZTZqA"
      },
      "source": [
        "#### **Visualization**\n",
        "\n",
        "The following cell visualizes the data as a sanity check for your implementation of the `STKDataset` class."
      ]
    },
    {
      "cell_type": "code",
      "execution_count": null,
      "metadata": {
        "id": "qneu5Tqu5HwP"
      },
      "outputs": [],
      "source": [
        "if NOTEBOOK:\n",
        "    figure = plt.figure(figsize=(8, 8))\n",
        "    cols, rows = 3, 3\n",
        "    torch.manual_seed(0)\n",
        "    for i in range(1, cols * rows + 1):\n",
        "        sample_idx = torch.randint(len(train_dataset), size=(1,)).item()\n",
        "        img, label = train_dataset[sample_idx]\n",
        "        figure.add_subplot(rows, cols, i)\n",
        "        plt.title(ENCODING_TO_LABELS[label])\n",
        "        plt.axis(\"off\")\n",
        "        plt.imshow(img.permute(1, 2, 0)*0.5 + 0.5)\n",
        "    plt.show()"
      ]
    },
    {
      "cell_type": "markdown",
      "metadata": {
        "id": "iO62UxlvT_-B"
      },
      "source": [
        "#### **Data loaders**"
      ]
    },
    {
      "cell_type": "code",
      "execution_count": null,
      "metadata": {
        "id": "vEeDpfBn-FjK"
      },
      "outputs": [],
      "source": [
        "if NOTEBOOK:\n",
        "    ## STUDENT TODO START: Create data loaders for training, validation, and test sets each having a batch size of 64.\n",
        "    # Set shuffle to be True for training and validation data loaders, False for test data loader.\n",
        "\n",
        "    ## STUDENT TODO END"
      ]
    },
    {
      "cell_type": "markdown",
      "metadata": {
        "id": "mc_f7OeMcaeh"
      },
      "source": [
        "## **3.2. CNN architecture**\n",
        "\n",
        "Your goal is to devise a CNN that passes the threshold accuracy (80%) on the test set. You get full score (20 pts) if you get at least 80% test set accuracy and 0 if you get 30% or below. The score varies linearly between 0 and 20 for accuracies between 30% and 80%.\n",
        "\n",
        "There are several decisions that you take in building your CNN including but not limited to:\n",
        "\n",
        "- the number of convolutional layers\n",
        "- the kernel size, stride, padding and number of out channels for each convolutional layer\n",
        "- number of fully connected layers\n",
        "- number of nodes in each fully connected layer\n",
        "\n",
        "You are free to decide the architecture. To make your search easier, we recommend you to use not more than four convolutional layers and four fully connected layers. We also suggest that you use the relu activation function between the layers."
      ]
    },
    {
      "cell_type": "code",
      "execution_count": null,
      "metadata": {
        "id": "_CJJEh5rBRmQ"
      },
      "outputs": [],
      "source": [
        "if NOTEBOOK:\n",
        "    class Net(nn.Module):\n",
        "        def __init__(self):\n",
        "            super().__init__()\n",
        "            ## STUDENT TODO START: Create the layers of your CNN here\n",
        "\n",
        "            ## STUDENT TODO END\n",
        "\n",
        "        def forward(self, x):\n",
        "            ## STUDENT TODO START: Perform the forward pass through the layers\n",
        "\n",
        "            ## STUDENT TODO END\n",
        "\n",
        "    ## STUDENT TODO START: Create an instance of Net and move it to the GPU\n",
        "\n",
        "    ## STUDENT TODO END"
      ]
    },
    {
      "cell_type": "markdown",
      "metadata": {
        "id": "uo7XH85FfrXl"
      },
      "source": [
        "## **3.3. Training, validation, and testing**"
      ]
    },
    {
      "cell_type": "code",
      "execution_count": null,
      "metadata": {
        "id": "-hfsnLHCCxt5"
      },
      "outputs": [],
      "source": [
        "if NOTEBOOK:\n",
        "    ## STUDENT TODO START:\n",
        "    # 1. Set the criterion to be cross entropy loss\n",
        "\n",
        "    # 2. Experiment with different optimizers\n",
        "\n",
        "    ## STUDENT TODO END"
      ]
    },
    {
      "cell_type": "code",
      "execution_count": null,
      "metadata": {
        "id": "-dECXr5bCz-6"
      },
      "outputs": [],
      "source": [
        "if NOTEBOOK:\n",
        "\n",
        "    train_loss, validation_loss = [], []\n",
        "    train_acc, validation_acc = [], []\n",
        "\n",
        "    ## STUDENT TODO START:\n",
        "    # Note that we have set the number of epochs to be 10. You can choose to increase or decrease the number of epochs.\n",
        "    num_epochs = 10\n",
        "\n",
        "    # Iterate through the epochs\n",
        "\n",
        "        # Train the model and iterate through the training dataloader\n",
        "\n",
        "            # 1. Store the inputs and labels in the GPU\n",
        "\n",
        "            # 2. Get the model predictions\n",
        "\n",
        "            # 3. Zero the gradients out\n",
        "\n",
        "            # 4. Get the loss\n",
        "\n",
        "            # 5. Calculate the gradients\n",
        "\n",
        "            # 6. Update the weights\n",
        "\n",
        "            # 7. Update the metrics\n",
        "\n",
        "        # Append the loss and accuracy values\n",
        "\n",
        "        # Iterate through the validation dataloader\n",
        "\n",
        "            # 1. Store the inputs and labels in the GPU\n",
        "\n",
        "            # 2. Get the model predictions\n",
        "\n",
        "            # 3. Get the loss\n",
        "\n",
        "            # 4. Update the metrics\n",
        "\n",
        "        # Append the loss and accuracy values\n",
        "\n",
        "        ## STUDENT TODO END\n",
        "        print(f\"Epoch {epoch+1}:\")\n",
        "\n",
        "        print(f\"Training Loss:\", round(train_loss[epoch], 3))\n",
        "        print(f\"Validation Loss:\", round(validation_loss[epoch], 3))\n",
        "\n",
        "        print(f\"Training Accuracy:\", round(train_acc[epoch], 3))\n",
        "        print(f\"Validation Accuracy:\", round(validation_acc[epoch], 3))\n",
        "\n",
        "        print(\"------------------------------\")"
      ]
    },
    {
      "cell_type": "code",
      "execution_count": null,
      "metadata": {
        "id": "Be97yhnt4sAf"
      },
      "outputs": [],
      "source": [
        "if NOTEBOOK:\n",
        "\n",
        "    model.eval()\n",
        "\n",
        "    test_predictions = np.array([])\n",
        "\n",
        "    for i, data in enumerate(test_dataloader, 0):\n",
        "\n",
        "        inputs = data\n",
        "        ## STUDENT TODO START:\n",
        "        # 1. Store the inputs in the GPU\n",
        "\n",
        "        # 2. Get the model predictions\n",
        "\n",
        "        ## STUDENT TODO END\n",
        "\n",
        "        _, predicted = torch.max(predictions, 1)\n",
        "\n",
        "        test_predictions = np.concatenate((test_predictions, predicted.detach().cpu().numpy()))"
      ]
    },
    {
      "cell_type": "code",
      "execution_count": null,
      "metadata": {
        "id": "SSzSgCbYH8Zi"
      },
      "outputs": [],
      "source": [
        "# PennGrader Grading Cell\n",
        "if NOTEBOOK:\n",
        "    grader.grade(test_case_id = 'test_cnn_predictions', answer = test_predictions)"
      ]
    },
    {
      "cell_type": "markdown",
      "metadata": {
        "id": "-h9O4ky189kj"
      },
      "source": [
        "Download the .ipynb notebook and submit on Gradescope. And, **add the manually graded parts to your written answer sheets.**"
      ]
    },
    {
      "cell_type": "markdown",
      "metadata": {
        "id": "KD6VKdQIwcxg"
      },
      "source": [
        "# Submit to Gradescope\n",
        "Congratulations! You've finished the homework. Don't forget to submit your final notebook on [Gradescope](gradescope.com)."
      ]
    }
  ],
  "metadata": {
    "colab": {
      "collapsed_sections": [
        "N7mQBOT862I-",
        "gswBAEyLdYoX"
      ],
      "provenance": []
    },
    "kernelspec": {
      "display_name": "Python 3",
      "language": "python",
      "name": "python3"
    },
    "language_info": {
      "codemirror_mode": {
        "name": "ipython",
        "version": 3
      },
      "file_extension": ".py",
      "mimetype": "text/x-python",
      "name": "python",
      "nbconvert_exporter": "python",
      "pygments_lexer": "ipython3",
      "version": "3.10.14"
    }
  },
  "nbformat": 4,
  "nbformat_minor": 0
}
